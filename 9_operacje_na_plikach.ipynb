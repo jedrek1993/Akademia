{
 "cells": [
  {
   "cell_type": "code",
   "execution_count": 6,
   "metadata": {},
   "outputs": [
    {
     "name": "stdout",
     "output_type": "stream",
     "text": [
      "pierwsza linia\n",
      "druga linia\n",
      "\n",
      "True\n",
      "PIERWSZA LINIA\n",
      "DRUGA LINIA\n",
      "\n"
     ]
    }
   ],
   "source": [
    "f = open('plik_tekstowy.txt', 'r')\n",
    "zawartosc = f.read()\n",
    "print(zawartosc)\n",
    "print(f.read() == '')\n",
    "print(zawartosc.upper())\n",
    "f.close()"
   ]
  },
  {
   "cell_type": "code",
   "execution_count": 3,
   "metadata": {},
   "outputs": [
    {
     "name": "stdout",
     "output_type": "stream",
     "text": [
      "Witaj  asdad, jestem Teraz jest inna linia \n",
      "\n"
     ]
    }
   ],
   "source": [
    "f = open('plik_tekstowy.txt', 'r')\n",
    "zawartosc = f.readlines()\n",
    "print(\"Witaj {}, jestem {}\".format(zawartosc[1], zawartosc[0]))"
   ]
  },
  {
   "cell_type": "code",
   "execution_count": 1,
   "metadata": {},
   "outputs": [],
   "source": [
    "f = open('plik_tekstowy.txt', 'w')\n",
    "f.write(\"Teraz jest inna linia \\n asdad\")\n",
    "f.close()"
   ]
  },
  {
   "cell_type": "markdown",
   "metadata": {},
   "source": [
    "# Napisz funkcję która przyjmuje jako argument słownik z imieniem, nazwiskiem i numerem telefonu oraz nazwe pliku, a następnie zapisze te informacje do pliku"
   ]
  },
  {
   "cell_type": "code",
   "execution_count": 12,
   "metadata": {},
   "outputs": [],
   "source": [
    "osoba = {\n",
    "    'imie': 'Jedrzej',\n",
    "    'nazwisko': 'Stolarz',\n",
    "    'numer': '555 012 147'\n",
    "}"
   ]
  },
  {
   "cell_type": "code",
   "execution_count": null,
   "metadata": {},
   "outputs": [],
   "source": []
  }
 ],
 "metadata": {
  "kernelspec": {
   "display_name": "Python 3",
   "language": "python",
   "name": "python3"
  },
  "language_info": {
   "codemirror_mode": {
    "name": "ipython",
    "version": 3
   },
   "file_extension": ".py",
   "mimetype": "text/x-python",
   "name": "python",
   "nbconvert_exporter": "python",
   "pygments_lexer": "ipython3",
   "version": "3.6.5"
  }
 },
 "nbformat": 4,
 "nbformat_minor": 2
}
