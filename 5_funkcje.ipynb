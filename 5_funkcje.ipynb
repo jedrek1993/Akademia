{
 "cells": [
  {
   "cell_type": "markdown",
   "metadata": {},
   "source": [
    "# Słownik "
   ]
  },
  {
   "cell_type": "code",
   "execution_count": 51,
   "metadata": {},
   "outputs": [
    {
     "name": "stdout",
     "output_type": "stream",
     "text": [
      "jajka 10\n",
      "mleko 2\n",
      "banany 3\n"
     ]
    }
   ],
   "source": [
    "pusty_slownik = {} \n",
    "zakupy = {'jajka': 10, 'mleko': 2, 'banany': 3}\n",
    "# słownik jest to zestaw par w postaci klucz: wartosc \n",
    "\n",
    "for klucz, wartosc in zakupy.items(): # tak możemy iterować po całym słowniku\n",
    "    print(klucz, wartosc)"
   ]
  },
  {
   "cell_type": "code",
   "execution_count": 8,
   "metadata": {},
   "outputs": [
    {
     "name": "stdout",
     "output_type": "stream",
     "text": [
      "jajka: 10\n",
      "{'jajka': 10, 'banany': 3}\n"
     ]
    }
   ],
   "source": [
    "print(\"jajka:\", zakupy['jajka']) # wyciąganie wartości ze słownika\n",
    "\n",
    "zakupy['truskawki'] = 20 # dodawanie do słownika\n",
    "print(zakupy)"
   ]
  },
  {
   "cell_type": "markdown",
   "metadata": {},
   "source": [
    "# Funkcje"
   ]
  },
  {
   "cell_type": "code",
   "execution_count": 13,
   "metadata": {},
   "outputs": [
    {
     "name": "stdout",
     "output_type": "stream",
     "text": [
      "Witaj na Akademii!\n"
     ]
    }
   ],
   "source": [
    "def akademia(): # do tworzenia funkcji wykorzystujemy słówko def a następnie piszemy nazwę funkcji i argumenty w nawiasach jeżeli jakieś chcemy mieć w naszej funkcji\n",
    "    print(\"Witaj na Akademii!\")\n",
    "\n",
    "akademia() # tak wywołujemy naszą funkcję"
   ]
  },
  {
   "cell_type": "code",
   "execution_count": 9,
   "metadata": {},
   "outputs": [
    {
     "name": "stdout",
     "output_type": "stream",
     "text": [
      "Witaj, Jan!\n"
     ]
    }
   ],
   "source": [
    "def przywitanie(imie): # imie to argument funkcji, możemy się odnieść wewnątrz niej do tej zmiennej \n",
    "    return \"Witaj, \" + imie + \"!\" # słówko return kończy działanie funkcji i zwraca wartość na zewnątrz \n",
    "\n",
    "powitanko = przywitanie(\"Jan\") # to co zwróci return możemy przypisać do jakiejś zmiennej\n",
    "\n",
    "print(powitanko) # a potem tą zmienną na przykłąd wyświetlić"
   ]
  },
  {
   "cell_type": "code",
   "execution_count": 36,
   "metadata": {},
   "outputs": [
    {
     "name": "stdout",
     "output_type": "stream",
     "text": [
      "Witaj na Akademii!\n",
      "None\n"
     ]
    }
   ],
   "source": [
    "def akademia():\n",
    "    print(\"Witaj na Akademii!\") # jeżeli funkcja nie ma return to zwraca None\n",
    "\n",
    "print(akademia())"
   ]
  },
  {
   "cell_type": "code",
   "execution_count": 10,
   "metadata": {},
   "outputs": [
    {
     "name": "stdout",
     "output_type": "stream",
     "text": [
      "13\n",
      "8\n",
      "0.5\n"
     ]
    }
   ],
   "source": [
    "def calculate(a, b, znak='+'): # argumenty mogą mieć wartości domyślne\n",
    "    wyniki = {'+': a+b, '*': a*b, '-': a-b, '/': a/b} # Zadanie: uzupełnij\n",
    "    return wyniki[znak]\n",
    "\n",
    "print(calculate(6, 7)) # ==> 13\n",
    "print(calculate(2, 4, '*')) # ==> 8\n",
    "print(calculate(2, 4, '/')) # ==> 0.5"
   ]
  },
  {
   "cell_type": "code",
   "execution_count": 18,
   "metadata": {},
   "outputs": [
    {
     "name": "stdout",
     "output_type": "stream",
     "text": [
      "12\n",
      "10\n"
     ]
    },
    {
     "ename": "NameError",
     "evalue": "name 'b' is not defined",
     "output_type": "error",
     "traceback": [
      "\u001b[1;31m---------------------------------------------------------------------------\u001b[0m",
      "\u001b[1;31mNameError\u001b[0m                                 Traceback (most recent call last)",
      "\u001b[1;32m<ipython-input-18-acc7b331db88>\u001b[0m in \u001b[0;36m<module>\u001b[1;34m()\u001b[0m\n\u001b[0;32m      8\u001b[0m \u001b[0mfoo\u001b[0m\u001b[1;33m(\u001b[0m\u001b[1;33m)\u001b[0m\u001b[1;33m\u001b[0m\u001b[0m\n\u001b[0;32m      9\u001b[0m \u001b[0mprint\u001b[0m\u001b[1;33m(\u001b[0m\u001b[0ma\u001b[0m\u001b[1;33m)\u001b[0m\u001b[1;33m\u001b[0m\u001b[0m\n\u001b[1;32m---> 10\u001b[1;33m \u001b[0mprint\u001b[0m\u001b[1;33m(\u001b[0m\u001b[0mb\u001b[0m\u001b[1;33m)\u001b[0m\u001b[1;33m\u001b[0m\u001b[0m\n\u001b[0m",
      "\u001b[1;31mNameError\u001b[0m: name 'b' is not defined"
     ]
    }
   ],
   "source": [
    "a = 10\n",
    "\n",
    "def foo(): # zmienne zdefiniowane wewnątrz funkcji są dostępne tylko w jej wnętrzu i mogą przysłonić zmienne globalne\n",
    "    a = 12\n",
    "    b = 6\n",
    "    print(a)\n",
    "\n",
    "foo()\n",
    "print(a)\n",
    "print(b)"
   ]
  },
  {
   "cell_type": "code",
   "execution_count": 52,
   "metadata": {},
   "outputs": [
    {
     "name": "stdout",
     "output_type": "stream",
     "text": [
      "0.6964399135282295\n",
      "10\n"
     ]
    }
   ],
   "source": [
    "# biblioteki zewnętrzne i funkcje \n",
    "\n",
    "from random import random, randint\n",
    "# możemy importować funkcje z innych modułów i używać je w swoich programach\n",
    "\n",
    "\n",
    "print(random())\n",
    "print(randint(1,10))"
   ]
  },
  {
   "cell_type": "markdown",
   "metadata": {},
   "source": [
    "-----\n",
    "# Zadania"
   ]
  },
  {
   "cell_type": "markdown",
   "metadata": {},
   "source": [
    "### Napisz funkcję która będzie przyjmować listę owoców i zwracać słownik którego kluczami będą nazwy owoców z listy, a wartością - losowa liczba całkowita z przedziału od 0 do 20"
   ]
  },
  {
   "cell_type": "code",
   "execution_count": 53,
   "metadata": {},
   "outputs": [
    {
     "name": "stdout",
     "output_type": "stream",
     "text": [
      "{'jablko': 9, 'ananas': 17, 'gruszka': 2}\n",
      "{'jablko': 17, 'gruszka': 5}\n"
     ]
    }
   ],
   "source": [
    "from random import randint\n",
    "\n",
    "def ilosc_owocow(lista_owocow):\n",
    "    slownik_z_iloscia_owocow = {}\n",
    "    for nazwa_owoca in lista_owocow:\n",
    "        slownik_z_iloscia_owocow[nazwa_owoca] = randint(0, 20)\n",
    "    return slownik_z_iloscia_owocow\n",
    "\n",
    "\n",
    "\n",
    "owoce = ['jablko', 'ananas', 'gruszka']\n",
    "owoce_tylko_polskie = ['jablko', 'gruszka']\n",
    "print(ilosc_owocow(owoce))\n",
    "print(ilosc_owocow(owoce_tylko_polskie))\n"
   ]
  },
  {
   "cell_type": "markdown",
   "metadata": {},
   "source": [
    "### Napisz funkcję która przyjmuje listę owoców i dla każdego z owoców wypisze krótką informację o tym ile jego sztuk posiadamy np. \"W tej chwili masz 4 sztuki jablko\". W tym zadaniu wykorzystaj funkcję z poprzedniego zadania do wyznaczenia ile owoców posiadamy"
   ]
  },
  {
   "cell_type": "code",
   "execution_count": 54,
   "metadata": {},
   "outputs": [
    {
     "name": "stdout",
     "output_type": "stream",
     "text": [
      "Owoc: jablko, ilosc: 7\n",
      "Owoc: ananas, ilosc: 7\n",
      "Owoc: gruszka, ilosc: 14\n"
     ]
    }
   ],
   "source": [
    "def spis_owocow(lista_owocow):\n",
    "    liczba_owocow = ilosc_owocow(lista_owocow)\n",
    "    for owoc, ilosc in liczba_owocow.items():\n",
    "        print(\"Owoc: {}, ilosc: {}\".format(owoc, ilosc))\n",
    "\n",
    "spis_owocow(['jablko', 'ananas', 'gruszka'])\n"
   ]
  }
 ],
 "metadata": {
  "kernelspec": {
   "display_name": "Python 3",
   "language": "python",
   "name": "python3"
  },
  "language_info": {
   "codemirror_mode": {
    "name": "ipython",
    "version": 3
   },
   "file_extension": ".py",
   "mimetype": "text/x-python",
   "name": "python",
   "nbconvert_exporter": "python",
   "pygments_lexer": "ipython3",
   "version": "3.6.5"
  }
 },
 "nbformat": 4,
 "nbformat_minor": 2
}
