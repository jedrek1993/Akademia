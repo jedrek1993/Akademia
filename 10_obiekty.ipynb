{
 "cells": [
  {
   "cell_type": "code",
   "execution_count": 3,
   "metadata": {},
   "outputs": [
    {
     "name": "stdout",
     "output_type": "stream",
     "text": [
      "Auto Fiat ma kolor: blue\n"
     ]
    }
   ],
   "source": [
    "car1_brand = 'Fiat'\n",
    "car1_color = 'red'\n",
    "\n",
    "car2_brand = 'Volvo'\n",
    "car2_color = 'blue'\n",
    "\n",
    "def opisz_auto(brand, color):\n",
    "    print(\"Auto {} ma kolor: {}\".format(brand, color))\n",
    "\n",
    "opisz_auto(car1_brand, car2_color)"
   ]
  },
  {
   "cell_type": "code",
   "execution_count": 3,
   "metadata": {},
   "outputs": [
    {
     "name": "stdout",
     "output_type": "stream",
     "text": [
      "Witaj! Jestem Jędrzej Stolarz\n"
     ]
    }
   ],
   "source": [
    "class Osoba:\n",
    "    def __init__(self, name, lastname):\n",
    "        self.imie = name\n",
    "        self.nazwisko = lastname\n",
    "    \n",
    "    def przywitanie(self):\n",
    "        print(\"Witaj! Jestem {} {}\".format(self.imie, self.nazwisko))\n",
    "\n",
    "ja = Osoba('Jędrzej', 'Stolarz')\n",
    "\n",
    "ja.przywitanie()"
   ]
  },
  {
   "cell_type": "code",
   "execution_count": 4,
   "metadata": {},
   "outputs": [
    {
     "name": "stdout",
     "output_type": "stream",
     "text": [
      "To jest przystanek\n"
     ]
    }
   ],
   "source": [
    "class Car:\n",
    "    def __init__(self, brand, color):\n",
    "        self.b = brand\n",
    "        self.c = color\n",
    "    def opisz(self):\n",
    "        print(\"Auto {} ma kolor: {}\".format(self.b, self.c))\n",
    "\n",
    "class Autobus(Car):\n",
    "    def przystanek(self):\n",
    "        print(\"To jest przystanek\")\n",
    "        \n",
    "Autobus('volvo', 'red').przystanek()"
   ]
  }
 ],
 "metadata": {
  "kernelspec": {
   "display_name": "Python 3",
   "language": "python",
   "name": "python3"
  },
  "language_info": {
   "codemirror_mode": {
    "name": "ipython",
    "version": 3
   },
   "file_extension": ".py",
   "mimetype": "text/x-python",
   "name": "python",
   "nbconvert_exporter": "python",
   "pygments_lexer": "ipython3",
   "version": "3.6.5"
  }
 },
 "nbformat": 4,
 "nbformat_minor": 2
}
