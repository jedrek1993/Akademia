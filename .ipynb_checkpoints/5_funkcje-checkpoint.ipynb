{
 "cells": [
  {
   "cell_type": "markdown",
   "metadata": {},
   "source": [
    "# Słownik "
   ]
  },
  {
   "cell_type": "code",
   "execution_count": 2,
   "metadata": {},
   "outputs": [
    {
     "name": "stdout",
     "output_type": "stream",
     "text": [
      "{'jajka': 10, 'mleko': 2, 'banany': 3}\n"
     ]
    }
   ],
   "source": [
    "zakupy = {'jajka': 10, 'mleko': 2, 'banany': 3}\n",
    "print(zakupy)"
   ]
  },
  {
   "cell_type": "code",
   "execution_count": 8,
   "metadata": {},
   "outputs": [
    {
     "name": "stdout",
     "output_type": "stream",
     "text": [
      "jajka: 10\n",
      "{'jajka': 10, 'banany': 3}\n"
     ]
    }
   ],
   "source": [
    "print(\"jajka:\", zakupy['jajka'])\n",
    "\n",
    "del zakupy['mleko']\n",
    "print(zakupy)"
   ]
  },
  {
   "cell_type": "markdown",
   "metadata": {},
   "source": [
    "# Funkcje"
   ]
  },
  {
   "cell_type": "code",
   "execution_count": 13,
   "metadata": {},
   "outputs": [
    {
     "name": "stdout",
     "output_type": "stream",
     "text": [
      "Witaj na Akademii!\n"
     ]
    }
   ],
   "source": [
    "def akademia():\n",
    "    print(\"Witaj na Akademii!\")\n",
    "\n",
    "akademia()"
   ]
  },
  {
   "cell_type": "code",
   "execution_count": 9,
   "metadata": {},
   "outputs": [
    {
     "name": "stdout",
     "output_type": "stream",
     "text": [
      "Witaj, Jan!\n"
     ]
    }
   ],
   "source": [
    "def przywitanie(imie):\n",
    "    return \"Witaj, \" + imie + \"!\"\n",
    "\n",
    "powitanko = przywitanie(\"Jan\")\n",
    "\n",
    "print(powitanko)"
   ]
  },
  {
   "cell_type": "code",
   "execution_count": 36,
   "metadata": {},
   "outputs": [
    {
     "name": "stdout",
     "output_type": "stream",
     "text": [
      "Witaj na Akademii!\n",
      "None\n"
     ]
    }
   ],
   "source": [
    "def akademia():\n",
    "    print(\"Witaj na Akademii!\")\n",
    "\n",
    "print(akademia())"
   ]
  },
  {
   "cell_type": "code",
   "execution_count": 10,
   "metadata": {},
   "outputs": [
    {
     "name": "stdout",
     "output_type": "stream",
     "text": [
      "13\n",
      "8\n",
      "0.5\n"
     ]
    }
   ],
   "source": [
    "def calculate(a, b, znak='+'):\n",
    "    wyniki = {'+': a+b, '*': a*b, '-': a-b, '/': a/b} # Zadanie: uzupełnij\n",
    "    return wyniki[znak]\n",
    "\n",
    "print(calculate(6, 7)) # ==> 13\n",
    "print(calculate(2, 4, '*')) # ==> 8\n",
    "print(calculate(2, 4, '/')) # ==> 8"
   ]
  },
  {
   "cell_type": "code",
   "execution_count": 18,
   "metadata": {},
   "outputs": [
    {
     "name": "stdout",
     "output_type": "stream",
     "text": [
      "12\n",
      "10\n"
     ]
    },
    {
     "ename": "NameError",
     "evalue": "name 'b' is not defined",
     "output_type": "error",
     "traceback": [
      "\u001b[1;31m---------------------------------------------------------------------------\u001b[0m",
      "\u001b[1;31mNameError\u001b[0m                                 Traceback (most recent call last)",
      "\u001b[1;32m<ipython-input-18-acc7b331db88>\u001b[0m in \u001b[0;36m<module>\u001b[1;34m()\u001b[0m\n\u001b[0;32m      8\u001b[0m \u001b[0mfoo\u001b[0m\u001b[1;33m(\u001b[0m\u001b[1;33m)\u001b[0m\u001b[1;33m\u001b[0m\u001b[0m\n\u001b[0;32m      9\u001b[0m \u001b[0mprint\u001b[0m\u001b[1;33m(\u001b[0m\u001b[0ma\u001b[0m\u001b[1;33m)\u001b[0m\u001b[1;33m\u001b[0m\u001b[0m\n\u001b[1;32m---> 10\u001b[1;33m \u001b[0mprint\u001b[0m\u001b[1;33m(\u001b[0m\u001b[0mb\u001b[0m\u001b[1;33m)\u001b[0m\u001b[1;33m\u001b[0m\u001b[0m\n\u001b[0m",
      "\u001b[1;31mNameError\u001b[0m: name 'b' is not defined"
     ]
    }
   ],
   "source": [
    "a = 10\n",
    "\n",
    "def foo():\n",
    "    a = 12\n",
    "    b = 6\n",
    "    print(a)\n",
    "\n",
    "foo()\n",
    "print(a)\n",
    "print(b)"
   ]
  },
  {
   "cell_type": "code",
   "execution_count": 30,
   "metadata": {},
   "outputs": [
    {
     "name": "stdout",
     "output_type": "stream",
     "text": [
      "3\n"
     ]
    }
   ],
   "source": [
    "# biblioteki zewnętrzne i funkcje \n",
    "\n",
    "import random\n",
    "print(random.randint(1,10))"
   ]
  },
  {
   "cell_type": "code",
   "execution_count": 39,
   "metadata": {},
   "outputs": [
    {
     "ename": "ImportError",
     "evalue": "cannot import name 'papa'",
     "output_type": "error",
     "traceback": [
      "\u001b[1;31m---------------------------------------------------------------------------\u001b[0m",
      "\u001b[1;31mImportError\u001b[0m                               Traceback (most recent call last)",
      "\u001b[1;32m<ipython-input-39-4a6ff59f4f0a>\u001b[0m in \u001b[0;36m<module>\u001b[1;34m()\u001b[0m\n\u001b[1;32m----> 1\u001b[1;33m \u001b[1;32mfrom\u001b[0m \u001b[0mbiblioteka\u001b[0m \u001b[1;32mimport\u001b[0m \u001b[0mpapa\u001b[0m\u001b[1;33m\u001b[0m\u001b[0m\n\u001b[0m\u001b[0;32m      2\u001b[0m \u001b[0mpapa\u001b[0m\u001b[1;33m(\u001b[0m\u001b[1;33m)\u001b[0m\u001b[1;33m\u001b[0m\u001b[0m\n",
      "\u001b[1;31mImportError\u001b[0m: cannot import name 'papa'"
     ]
    }
   ],
   "source": [
    "from biblioteka import papa\n",
    "papa()"
   ]
  },
  {
   "cell_type": "markdown",
   "metadata": {},
   "source": [
    "-----\n",
    "# Zadania"
   ]
  },
  {
   "cell_type": "markdown",
   "metadata": {},
   "source": [
    "### Napisz funkcję która będzie przyjmować listę owoców i zwracać słownik którego kluczami będą nazwy owoców z listy, a wartością - losowa liczba całkowita z przedziału od 0 do 20"
   ]
  },
  {
   "cell_type": "code",
   "execution_count": 37,
   "metadata": {},
   "outputs": [
    {
     "name": "stdout",
     "output_type": "stream",
     "text": [
      "{'jablko': 13, 'ananas': 5, 'gruszka': 0}\n",
      "{'jablko': 9, 'gruszka': 2}\n"
     ]
    },
    {
     "data": {
      "text/html": [
       "<script>code_show=true;function code_toggle(){if(code_show){$('div.cell.code_cell.rendered.selected div.input').hide();\n",
       "    }else{$('div.cell.code_cell.rendered.selected div.input').show();}code_show=!code_show}$( document ).ready(code_toggle);\n",
       "</script>To show/hide this cell's raw code input, click <a href=\"javascript:code_toggle()\">here</a>."
      ],
      "text/plain": [
       "<IPython.core.display.HTML object>"
      ]
     },
     "execution_count": 37,
     "metadata": {},
     "output_type": "execute_result"
    }
   ],
   "source": [
    "from random import randint\n",
    "\n",
    "def ilosc_owocow(lista_owocow):\n",
    "    slownik_z_iloscia_owocow = {}\n",
    "    for nazwa_owoca in lista_owocow:\n",
    "        slownik_z_iloscia_owocow[nazwa_owoca] = randint(0, 20)\n",
    "    return slownik_z_iloscia_owocow\n",
    "\n",
    "\n",
    "\n",
    "owoce = ['jablko', 'ananas', 'gruszka']\n",
    "owoce_tylko_polskie = ['jablko', 'gruszka']\n",
    "print(ilosc_owocow(owoce))\n",
    "print(ilosc_owocow(owoce_tylko_polskie))\n",
    "\n",
    "\n",
    "\n",
    "from IPython.display import HTML\n",
    "HTML('''<script>code_show=true;function code_toggle(){if(code_show){$('div.cell.code_cell.rendered.selected div.input').hide();\n",
    "    }else{$('div.cell.code_cell.rendered.selected div.input').show();}code_show=!code_show}$( document ).ready(code_toggle);\n",
    "</script>To show/hide this cell's raw code input, click <a href=\"javascript:code_toggle()\">here</a>.''')"
   ]
  },
  {
   "cell_type": "markdown",
   "metadata": {},
   "source": [
    "### Napisz funkcję która przyjmuje listę owoców i dla każdego z owoców wypisze krótką informację o tym ile jego sztuk posiadamy np. \"W tej chwili masz 4 sztuki jablko\". W tym zadaniu wykorzystaj funkcję z poprzedniego zadania do wyznaczenia ile owoców posiadamy"
   ]
  },
  {
   "cell_type": "code",
   "execution_count": 38,
   "metadata": {},
   "outputs": [
    {
     "name": "stdout",
     "output_type": "stream",
     "text": [
      "Owoc: jablko, ilosc: 19\n",
      "Owoc: ananas, ilosc: 15\n",
      "Owoc: gruszka, ilosc: 6\n"
     ]
    },
    {
     "data": {
      "text/html": [
       "<script>code_show=true;function code_toggle(){if(code_show){$('div.cell.code_cell.rendered.selected div.input').hide();\n",
       "    }else{$('div.cell.code_cell.rendered.selected div.input').show();}code_show=!code_show}$( document ).ready(code_toggle);\n",
       "</script>To show/hide this cell's raw code input, click <a href=\"javascript:code_toggle()\">here</a>."
      ],
      "text/plain": [
       "<IPython.core.display.HTML object>"
      ]
     },
     "execution_count": 38,
     "metadata": {},
     "output_type": "execute_result"
    }
   ],
   "source": [
    "def spis_owocow(lista_owocow):\n",
    "    liczba_owocow = ilosc_owocow(lista_owocow)\n",
    "    for owoc, ilosc in liczba_owocow.items():\n",
    "        print(\"Owoc: {}, ilosc: {}\".format(owoc, ilosc))\n",
    "\n",
    "spis_owocow(['jablko', 'ananas', 'gruszka'])\n",
    "\n",
    "\n",
    "\n",
    "from IPython.display import HTML\n",
    "HTML('''<script>code_show=true;function code_toggle(){if(code_show){$('div.cell.code_cell.rendered.selected div.input').hide();\n",
    "    }else{$('div.cell.code_cell.rendered.selected div.input').show();}code_show=!code_show}$( document ).ready(code_toggle);\n",
    "</script>To show/hide this cell's raw code input, click <a href=\"javascript:code_toggle()\">here</a>.''')"
   ]
  }
 ],
 "metadata": {
  "kernelspec": {
   "display_name": "Python 3",
   "language": "python",
   "name": "python3"
  },
  "language_info": {
   "codemirror_mode": {
    "name": "ipython",
    "version": 3
   },
   "file_extension": ".py",
   "mimetype": "text/x-python",
   "name": "python",
   "nbconvert_exporter": "python",
   "pygments_lexer": "ipython3",
   "version": "3.6.5"
  }
 },
 "nbformat": 4,
 "nbformat_minor": 2
}
