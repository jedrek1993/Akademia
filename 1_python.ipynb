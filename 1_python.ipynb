{
 "cells": [
  {
   "cell_type": "markdown",
   "metadata": {
    "slideshow": {
     "slide_type": "slide"
    }
   },
   "source": [
    "# Wprowadzenie\n",
    "Python – język programowania wysokiego poziomu ogólnego przeznaczenia, o rozbudowanym pakiecie bibliotek standardowych, którego ideą przewodnią jest czytelność i klarowność kodu źródłowego. Jego składnia cechuje się przejrzystością i zwięzłością."
   ]
  },
  {
   "cell_type": "markdown",
   "metadata": {
    "slideshow": {
     "slide_type": "slide"
    }
   },
   "source": [
    "# Dlaczego Python?\n",
    "\n",
    "- Jest łatwy w użyciu\n",
    "- Bardzo szybko można zacząć \n",
    "- Podbija rynek\n",
    "- Ma bardzo dużą i mocną społeczność\n",
    "- Działa wszędzie\n",
    "- Jest bezpłatny"
   ]
  },
  {
   "cell_type": "markdown",
   "metadata": {
    "slideshow": {
     "slide_type": "subslide"
    }
   },
   "source": [
    "# Do czego można użyć Pythona?\n",
    "- Tworzenie skryptów automatyzujących nasze działania (Selenium, RobotFramework)\n",
    "- Tworzenie serwisów internetowych (Django)\n",
    "- Aplikacje desktopowe (PyQT)\n",
    "- Sztuczna inteligencja, obliczenia naukowe\n",
    "- Systemy wbudowane, IoT"
   ]
  },
  {
   "cell_type": "markdown",
   "metadata": {
    "slideshow": {
     "slide_type": "slide"
    }
   },
   "source": [
    "# Instalacja\n",
    "\n",
    "Na Linux Python jest domyślnie zainstalowany, na Windows możesz pobrać go ze strony https://www.python.org/downloads/"
   ]
  },
  {
   "cell_type": "markdown",
   "metadata": {
    "slideshow": {
     "slide_type": "slide"
    }
   },
   "source": [
    "# IDE\n",
    "\n",
    "- Pycharm: https://www.jetbrains.com/pycharm/download/\n",
    "- Visual Studio Code: https://code.visualstudio.com/Download"
   ]
  },
  {
   "cell_type": "markdown",
   "metadata": {
    "slideshow": {
     "slide_type": "slide"
    }
   },
   "source": [
    "# Gdzie znaleźć więcej wiedzy\n",
    "1. Dokumentacja pythona\n",
    "    - https://docs.python.org/3/\n",
    "\n",
    "2. Książki\n",
    "    - \"Python. Leksykon kieszonkowy\"\n",
    "    - \"Zanurkuj w Pythonie\"\n",
    "\n",
    "3. Internet\n",
    "    - www.python.rk.edu.pl/"
   ]
  },
  {
   "cell_type": "markdown",
   "metadata": {
    "slideshow": {
     "slide_type": "slide"
    }
   },
   "source": [
    "# Zaczynamy"
   ]
  },
  {
   "cell_type": "code",
   "execution_count": 1,
   "metadata": {
    "slideshow": {
     "slide_type": "slide"
    }
   },
   "outputs": [
    {
     "name": "stdout",
     "output_type": "stream",
     "text": [
      "Hello World!\n"
     ]
    }
   ],
   "source": [
    "print(\"Hello World!\")"
   ]
  },
  {
   "cell_type": "code",
   "execution_count": 2,
   "metadata": {
    "slideshow": {
     "slide_type": "slide"
    }
   },
   "outputs": [],
   "source": [
    "import antigravity"
   ]
  },
  {
   "cell_type": "code",
   "execution_count": null,
   "metadata": {},
   "outputs": [],
   "source": []
  }
 ],
 "metadata": {
  "celltoolbar": "Slideshow",
  "kernelspec": {
   "display_name": "Python 3",
   "language": "python",
   "name": "python3"
  },
  "language_info": {
   "codemirror_mode": {
    "name": "ipython",
    "version": 3
   },
   "file_extension": ".py",
   "mimetype": "text/x-python",
   "name": "python",
   "nbconvert_exporter": "python",
   "pygments_lexer": "ipython3",
   "version": "3.6.5"
  }
 },
 "nbformat": 4,
 "nbformat_minor": 2
}
