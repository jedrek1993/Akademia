{
 "cells": [
  {
   "cell_type": "code",
   "execution_count": 12,
   "metadata": {},
   "outputs": [
    {
     "name": "stdout",
     "output_type": "stream",
     "text": [
      "podaj liczbe52\n",
      "<class 'float'>\n"
     ]
    }
   ],
   "source": [
    "#Obsługa błędów - wprowadzenie\n",
    "liczba = input(\"podaj liczbe: \")\n",
    "num = float(liczba)\n",
    "print(type(num))"
   ]
  },
  {
   "cell_type": "code",
   "execution_count": 13,
   "metadata": {},
   "outputs": [
    {
     "name": "stdout",
     "output_type": "stream",
     "text": [
      "Nie da sie!\n"
     ]
    }
   ],
   "source": [
    "#Instrukcja try z klauzulą except\n",
    "try:\n",
    "    num = float(\"Hej!\")\n",
    "    print(num)\n",
    "except:\n",
    "    print(\"Nie da sie!\")"
   ]
  },
  {
   "cell_type": "code",
   "execution_count": 14,
   "metadata": {},
   "outputs": [
    {
     "name": "stdout",
     "output_type": "stream",
     "text": [
      "Nie da sie!\n"
     ]
    }
   ],
   "source": [
    "#Specyfikacja typu wyjątku\n",
    "try:\n",
    "    num = float(\"Hej!\")\n",
    "    print(num)\n",
    "except ValueError:\n",
    "    print(\"Nie da sie!\")"
   ]
  },
  {
   "cell_type": "markdown",
   "metadata": {},
   "source": [
    "### Napisz funkcję która do skutku będzie prosila użytkownika o wpisanie liczby"
   ]
  },
  {
   "cell_type": "code",
   "execution_count": null,
   "metadata": {},
   "outputs": [],
   "source": []
  }
 ],
 "metadata": {
  "kernelspec": {
   "display_name": "Python 3",
   "language": "python",
   "name": "python3"
  },
  "language_info": {
   "codemirror_mode": {
    "name": "ipython",
    "version": 3
   },
   "file_extension": ".py",
   "mimetype": "text/x-python",
   "name": "python",
   "nbconvert_exporter": "python",
   "pygments_lexer": "ipython3",
   "version": "3.6.5"
  }
 },
 "nbformat": 4,
 "nbformat_minor": 2
}
