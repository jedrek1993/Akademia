{
 "cells": [
  {
   "cell_type": "code",
   "execution_count": 43,
   "metadata": {},
   "outputs": [
    {
     "name": "stdout",
     "output_type": "stream",
     "text": [
      "+48 123 456 123 \n"
     ]
    }
   ],
   "source": [
    "import re\n",
    "\n",
    "linijka_tekstu = \"Adam Adamowicz | +48 123 456 123 | strzegomska 36  +48 123 555 123 \"\n",
    "\n",
    "# wyrazenie = r'\\+48 \\d\\d\\d \\d\\d\\d \\d\\d\\d'\n",
    "# wyrazenie = r'\\+48 \\d+ \\d* \\d..'\n",
    "wyrazenie = r'\\+48 [1-9 ]+ '\n",
    "\n",
    "dopasowanie = re.search(wyrazenie, linijka_tekstu)\n",
    "\n",
    "if dopasowanie:\n",
    "    numer = dopasowanie.group() #group(1)\n",
    "    print(numer)"
   ]
  },
  {
   "cell_type": "markdown",
   "metadata": {},
   "source": [
    "# Napisz wyrażenie które z podanego łańcucha danych wyciągnie wiek uzytkownika"
   ]
  },
  {
   "cell_type": "code",
   "execution_count": null,
   "metadata": {},
   "outputs": [],
   "source": [
    "dane_osobowe = \"username: jstolarz45 | age: 25 | city: Wroclaw\""
   ]
  },
  {
   "cell_type": "code",
   "execution_count": 45,
   "metadata": {},
   "outputs": [
    {
     "name": "stdout",
     "output_type": "stream",
     "text": [
      "25\n"
     ]
    },
    {
     "data": {
      "text/html": [
       "<script>code_show=true;function code_toggle(){if(code_show){$('div.cell.code_cell.rendered.selected div.input').hide();\n",
       "    }else{$('div.cell.code_cell.rendered.selected div.input').show();}code_show=!code_show}$( document ).ready(code_toggle);\n",
       "</script>To show/hide this cell's raw code input, click <a href=\"javascript:code_toggle()\">here</a>."
      ],
      "text/plain": [
       "<IPython.core.display.HTML object>"
      ]
     },
     "execution_count": 45,
     "metadata": {},
     "output_type": "execute_result"
    }
   ],
   "source": [
    "import re\n",
    "dane_osobowe = \"username: jstolarz45 | age: 25 | city: Wroclaw\"\n",
    "\n",
    "wyrazenie = r'age: (\\d+)'\n",
    "wiek = re.search(wyrazenie, dane_osobowe)\n",
    "if wiek:\n",
    "    lata = wiek.group(1)\n",
    "    print(lata)\n",
    "    \n",
    "\n",
    "\n",
    "\n",
    "from IPython.display import HTML\n",
    "HTML('''<script>code_show=true;function code_toggle(){if(code_show){$('div.cell.code_cell.rendered.selected div.input').hide();\n",
    "    }else{$('div.cell.code_cell.rendered.selected div.input').show();}code_show=!code_show}$( document ).ready(code_toggle);\n",
    "</script>To show/hide this cell's raw code input, click <a href=\"javascript:code_toggle()\">here</a>.''')"
   ]
  }
 ],
 "metadata": {
  "kernelspec": {
   "display_name": "Python 3",
   "language": "python",
   "name": "python3"
  },
  "language_info": {
   "codemirror_mode": {
    "name": "ipython",
    "version": 3
   },
   "file_extension": ".py",
   "mimetype": "text/x-python",
   "name": "python",
   "nbconvert_exporter": "python",
   "pygments_lexer": "ipython3",
   "version": "3.6.5"
  }
 },
 "nbformat": 4,
 "nbformat_minor": 2
}
