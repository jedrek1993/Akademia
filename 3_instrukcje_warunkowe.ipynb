{
 "cells": [
  {
   "cell_type": "code",
   "execution_count": 3,
   "metadata": {},
   "outputs": [
    {
     "name": "stdout",
     "output_type": "stream",
     "text": [
      "Cztery\n",
      "poszlo dalej\n"
     ]
    }
   ],
   "source": [
    "x = 4\n",
    "y = 2\n",
    "if x == 4 and y > 1 or x > 2: # if sprawdza czy warunek jest prawdziwy, jeżeli tak to wykona się wcięty kod pod spodem\n",
    "    print(\"Cztery\")\n",
    "print(\"poszlo dalej\")"
   ]
  },
  {
   "cell_type": "code",
   "execution_count": 9,
   "metadata": {},
   "outputs": [
    {
     "name": "stdout",
     "output_type": "stream",
     "text": [
      "True\n",
      "OK!\n"
     ]
    }
   ],
   "source": [
    "warunek = 5 > 4\n",
    "print(warunek)\n",
    "if warunek:\n",
    "    print(\"OK!\")"
   ]
  },
  {
   "cell_type": "code",
   "execution_count": 6,
   "metadata": {},
   "outputs": [
    {
     "name": "stdout",
     "output_type": "stream",
     "text": [
      "Co innego\n"
     ]
    }
   ],
   "source": [
    "x = 3\n",
    "if x == 4:\n",
    "    print(\"Cztery\")\n",
    "else: # jeżeli warunek przy if jest nie spełniony to wykona się else, tu nie piszemy żadnego warunku bo on wykona się jeżeli nie będzie spełniony warunek z if\n",
    "    print(\"Co innego\")"
   ]
  },
  {
   "cell_type": "code",
   "execution_count": 4,
   "metadata": {},
   "outputs": [
    {
     "name": "stdout",
     "output_type": "stream",
     "text": [
      "Trzy\n"
     ]
    }
   ],
   "source": [
    "x = 3\n",
    "if x == 4:\n",
    "    print(\"Cztery\")\n",
    "elif x == 3: # warunek w elif sprawdzany jest w następnej kolejności jeżeli w if nie jest spełniony\n",
    "    print(\"Trzy\")\n",
    "elif x == 2: # warunek w elif sprawdzany jest w następnej kolejności jeżeli w if nie jest spełniony\n",
    "    print(\"Dwa\")\n",
    "elif x == 1: # warunek w elif sprawdzany jest w następnej kolejności jeżeli w if nie jest spełniony\n",
    "    print(\"Jeden\")\n",
    "else:  # else i elif są nie obowiązkowe\n",
    "    print(\"Co innego\")"
   ]
  },
  {
   "cell_type": "code",
   "execution_count": 9,
   "metadata": {},
   "outputs": [
    {
     "name": "stdout",
     "output_type": "stream",
     "text": [
      "Cztery i więcej niż dwa\n"
     ]
    }
   ],
   "source": [
    "x = 4\n",
    "y = 5\n",
    "if x == 4 and y > 2: # możemy łączyć warunki słówkiem and jeżeli oba mają byś spełnione\n",
    "    print(\"Cztery i więcej niż dwa\")\n"
   ]
  },
  {
   "cell_type": "code",
   "execution_count": 10,
   "metadata": {},
   "outputs": [
    {
     "name": "stdout",
     "output_type": "stream",
     "text": [
      "Cztery lub więcej niż dwa\n"
     ]
    }
   ],
   "source": [
    "x = 4\n",
    "y = 5\n",
    "if x == 3 or y > 2:# możemy łączyć warunki słówkiem or jeżeli wystarczy że jesden jest spełniony\n",
    "    print(\"Cztery lub więcej niż dwa\")"
   ]
  },
  {
   "cell_type": "code",
   "execution_count": 16,
   "metadata": {},
   "outputs": [
    {
     "name": "stdout",
     "output_type": "stream",
     "text": [
      "Nie trzy\n",
      "Nie trzy\n"
     ]
    }
   ],
   "source": [
    "x = 4\n",
    "\n",
    "if not x == 3:# warunki możemy negować słówkiem not\n",
    "    print(\"Nie trzy\")\n",
    "    \n",
    "if x != 3: # W tym przypadku zadziała to tak samo, ale nie zawsze\n",
    "    print(\"Nie trzy\")"
   ]
  },
  {
   "cell_type": "markdown",
   "metadata": {},
   "source": [
    "### Nie tylko wartość True albo False możemy podawać jako warunek w if\n",
    "\n",
    "inne zmienne takie jak np. 0, \"\", [], (), {}, None mają wartość False, pozostałe mają zazwyczaj wartość True, w sczególności \"0\"\n",
    "\n",
    "Powyższą listę należy rozumieć jako: Liczba zero, pusty string(napis bez żadnego znaku), pusta lista, pusta krotka, pusty słownik, obiekt None(pusty obiekt)"
   ]
  },
  {
   "cell_type": "code",
   "execution_count": 12,
   "metadata": {},
   "outputs": [
    {
     "name": "stdout",
     "output_type": "stream",
     "text": [
      "pusta lista\n"
     ]
    }
   ],
   "source": [
    "if []:\n",
    "    print(\"jakaś lista\")\n",
    "else:\n",
    "    print(\"pusta lista\")"
   ]
  },
  {
   "cell_type": "markdown",
   "metadata": {},
   "source": [
    "# Zadanie:"
   ]
  },
  {
   "cell_type": "markdown",
   "metadata": {},
   "source": [
    "### Sprawdź czy podana liczba jest nieparzysta, większa od 4 i mniejsza od 20"
   ]
  },
  {
   "cell_type": "code",
   "execution_count": 13,
   "metadata": {},
   "outputs": [
    {
     "name": "stdout",
     "output_type": "stream",
     "text": [
      "Podaj liczbę: 17\n",
      "Pasuje!\n"
     ]
    }
   ],
   "source": [
    "liczba = int(input(\"Podaj liczbę: \")) #prosimy użytkownika aby podał liczbę, a potem to co zwróci input konwertujemy na int i zapisujemy do zmiennej liczba\n",
    "\n",
    "if liczba%2 and liczba>4 and liczba<20: # sprawdzamy czy spełnione są wszystkie trzy warunki\n",
    "    print(\"Pasuje!\")\n",
    "else:\n",
    "    print(\"Zła liczba\")\n"
   ]
  },
  {
   "cell_type": "code",
   "execution_count": 14,
   "metadata": {},
   "outputs": [
    {
     "name": "stdout",
     "output_type": "stream",
     "text": [
      "Podaj haslo: alamakota123\n",
      "OK!\n"
     ]
    }
   ],
   "source": [
    "haslo = \"alamakota123\" # to jest nasze hasło \n",
    "a = input(\"Podaj haslo: \") # tu prosimy użytkownika o wpisanie hasła funkcją input\n",
    "warunek = a == haslo # sprawdzamy czy hasła się zgadają i wyik zapisujemy do zmiennej warunek\n",
    "if warunek: # sprawdzamy warunek \n",
    "    print(\"OK!\")"
   ]
  },
  {
   "cell_type": "markdown",
   "metadata": {},
   "source": [
    "# Poproś użytkownika o jego wiek i aktualny rok, a następnie sprawdź czy urodził się po 1980 roku. Jeżeli tak to wypisz komunikat, że jest za młody"
   ]
  },
  {
   "cell_type": "code",
   "execution_count": 13,
   "metadata": {},
   "outputs": [
    {
     "ename": "ValueError",
     "evalue": "invalid literal for int() with base 10: '12.4'",
     "output_type": "error",
     "traceback": [
      "\u001b[1;31m---------------------------------------------------------------------------\u001b[0m",
      "\u001b[1;31mValueError\u001b[0m                                Traceback (most recent call last)",
      "\u001b[1;32m<ipython-input-13-34c7f5790b60>\u001b[0m in \u001b[0;36m<module>\u001b[1;34m()\u001b[0m\n\u001b[1;32m----> 1\u001b[1;33m \u001b[0mint\u001b[0m\u001b[1;33m(\u001b[0m\u001b[1;34m\"12.4\"\u001b[0m\u001b[1;33m)\u001b[0m\u001b[1;33m\u001b[0m\u001b[0m\n\u001b[0m",
      "\u001b[1;31mValueError\u001b[0m: invalid literal for int() with base 10: '12.4'"
     ]
    }
   ],
   "source": []
  }
 ],
 "metadata": {
  "kernelspec": {
   "display_name": "Python 3",
   "language": "python",
   "name": "python3"
  },
  "language_info": {
   "codemirror_mode": {
    "name": "ipython",
    "version": 3
   },
   "file_extension": ".py",
   "mimetype": "text/x-python",
   "name": "python",
   "nbconvert_exporter": "python",
   "pygments_lexer": "ipython3",
   "version": "3.6.5"
  }
 },
 "nbformat": 4,
 "nbformat_minor": 2
}
