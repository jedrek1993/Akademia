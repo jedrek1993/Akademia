{
 "cells": [
  {
   "cell_type": "code",
   "execution_count": 12,
   "metadata": {},
   "outputs": [
    {
     "name": "stdout",
     "output_type": "stream",
     "text": [
      "podaj liczbe52\n",
      "<class 'float'>\n"
     ]
    }
   ],
   "source": [
    "#Obsługa błędów - wprowadzenie\n",
    "liczba = input(\"podaj liczbe: \")\n",
    "num = float(liczba)\n",
    "print(type(num))"
   ]
  },
  {
   "cell_type": "code",
   "execution_count": 13,
   "metadata": {},
   "outputs": [
    {
     "name": "stdout",
     "output_type": "stream",
     "text": [
      "Nie da sie!\n"
     ]
    }
   ],
   "source": [
    "#Instrukcja try z klauzulą except\n",
    "try:\n",
    "    num = float(\"Hej!\")\n",
    "    print(num)\n",
    "except:\n",
    "    print(\"Nie da sie!\")"
   ]
  },
  {
   "cell_type": "code",
   "execution_count": 14,
   "metadata": {},
   "outputs": [
    {
     "name": "stdout",
     "output_type": "stream",
     "text": [
      "Nie da sie!\n"
     ]
    }
   ],
   "source": [
    "#Specyfikacja typu wyjątku\n",
    "try:\n",
    "    num = float(\"Hej!\")\n",
    "    print(num)\n",
    "except ValueError:\n",
    "    print(\"Nie da sie!\")"
   ]
  },
  {
   "cell_type": "markdown",
   "metadata": {},
   "source": [
    "### Napisz funkcję która do skutku będzie prosila użytkownika o wpisanie liczby"
   ]
  },
  {
   "cell_type": "code",
   "execution_count": 4,
   "metadata": {},
   "outputs": [
    {
     "name": "stdout",
     "output_type": "stream",
     "text": [
      "Podaj liczbe: ds\n",
      "To miała być liczba\n",
      "Podaj liczbe: fw3\n",
      "To miała być liczba\n",
      "Podaj liczbe: 12-1\n",
      "To miała być liczba\n",
      "Podaj liczbe: 123\n",
      "Dziękuję\n"
     ]
    }
   ],
   "source": [
    "def liczba():\n",
    "    try:\n",
    "        num = float(input(\"Podaj liczbe: \"))\n",
    "        print(\"Dziękuję\")\n",
    "    except:\n",
    "        print(\"To miała być liczba\")\n",
    "        liczba()\n",
    "\n",
    "liczba()\n"
   ]
  },
  {
   "cell_type": "code",
   "execution_count": null,
   "metadata": {},
   "outputs": [],
   "source": []
  }
 ],
 "metadata": {
  "kernelspec": {
   "display_name": "Python 3",
   "language": "python",
   "name": "python3"
  },
  "language_info": {
   "codemirror_mode": {
    "name": "ipython",
    "version": 3
   },
   "file_extension": ".py",
   "mimetype": "text/x-python",
   "name": "python",
   "nbconvert_exporter": "python",
   "pygments_lexer": "ipython3",
   "version": "3.6.5"
  }
 },
 "nbformat": 4,
 "nbformat_minor": 2
}
