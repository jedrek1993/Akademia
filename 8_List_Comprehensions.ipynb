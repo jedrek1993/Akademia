{
 "cells": [
  {
   "cell_type": "markdown",
   "metadata": {},
   "source": [
    "# List Comprehensions "
   ]
  },
  {
   "cell_type": "code",
   "execution_count": 10,
   "metadata": {},
   "outputs": [
    {
     "name": "stdout",
     "output_type": "stream",
     "text": [
      "[1, 4]\n"
     ]
    }
   ],
   "source": [
    "spam = [1, 3, 5, 7, 2]\n",
    "\n",
    "nowa_lista = [x**2 for x in spam if x**2<5]\n",
    "print(nowa_lista)"
   ]
  },
  {
   "cell_type": "code",
   "execution_count": 4,
   "metadata": {},
   "outputs": [
    {
     "name": "stdout",
     "output_type": "stream",
     "text": [
      "[0, 1, 4, 9, 16, 25]\n"
     ]
    }
   ],
   "source": [
    "x2 = []\n",
    "for x in range(10):\n",
    "    if x <= 5:\n",
    "        x2.append(x*x)\n",
    "print(x2)"
   ]
  },
  {
   "cell_type": "code",
   "execution_count": 12,
   "metadata": {},
   "outputs": [
    {
     "name": "stdout",
     "output_type": "stream",
     "text": [
      "[1, 9, 25, 49, 81]\n"
     ]
    }
   ],
   "source": [
    "x2 = [x*x for x in range(10) if x%2] # lista składana skałada sie z wyrażenia dodawanego do listy, iteracji i opcjonalnego filtra\n",
    "print(x2)"
   ]
  },
  {
   "cell_type": "markdown",
   "metadata": {},
   "source": [
    "# Napisz wyrażenie które pozwoli na otrzymanie liczb podzielnych przez 3 lub 5 w zakresie od 0 do 50"
   ]
  },
  {
   "cell_type": "code",
   "execution_count": 11,
   "metadata": {},
   "outputs": [
    {
     "name": "stdout",
     "output_type": "stream",
     "text": [
      "[6, 15, 21, 24, 33, 36, 42, 51, 60, 66, 69, 78, 81, 87, 96, 105, 111, 114, 123, 126, 132, 141, 150]\n",
      "18\n"
     ]
    }
   ],
   "source": [
    "def dodawacz(a):\n",
    "    return (a+2)*3\n",
    "\n",
    "x2 = [dodawacz(x) for x in range(50) if x%3 == 0 or x%5 == 0]\n",
    "print(x2)\n",
    "\n",
    "print(dodawacz(4))"
   ]
  }
 ],
 "metadata": {
  "kernelspec": {
   "display_name": "Python 3",
   "language": "python",
   "name": "python3"
  },
  "language_info": {
   "codemirror_mode": {
    "name": "ipython",
    "version": 3
   },
   "file_extension": ".py",
   "mimetype": "text/x-python",
   "name": "python",
   "nbconvert_exporter": "python",
   "pygments_lexer": "ipython3",
   "version": "3.6.5"
  }
 },
 "nbformat": 4,
 "nbformat_minor": 2
}
