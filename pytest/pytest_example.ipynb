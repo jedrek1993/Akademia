{
 "cells": [
  {
   "cell_type": "code",
   "execution_count": 32,
   "metadata": {},
   "outputs": [],
   "source": [
    "import pytest\n",
    "import ipytest\n",
    "\n",
    "from mock import patch\n",
    "\n",
    "# enable pytest's assertions and ipytest's magics\n",
    "ipytest.config(rewrite_asserts=True, magics=True)\n",
    "\n",
    "# set the filename\n",
    "__file__ = 'pytest_example.ipynb'"
   ]
  },
  {
   "cell_type": "markdown",
   "metadata": {},
   "source": [
    "# Testowane funkcje"
   ]
  },
  {
   "cell_type": "code",
   "execution_count": 33,
   "metadata": {},
   "outputs": [],
   "source": [
    "def my_func(x):\n",
    "    return x // 2 * 2\n",
    "\n",
    "def bar():\n",
    "    l = input(\"Podaj liczbę: \")\n",
    "    return int(l)*2"
   ]
  },
  {
   "cell_type": "markdown",
   "metadata": {},
   "source": [
    "# Testy"
   ]
  },
  {
   "cell_type": "markdown",
   "metadata": {},
   "source": [
    "### Pierwsze testy"
   ]
  },
  {
   "cell_type": "markdown",
   "metadata": {},
   "source": [
    "Stwórz plik, którego nazwa zaczyna się od słowa 'test', aby pytest wykrył go jako plik z testami. Podobna zasada jest przy nazywaniu funkcji zawierających testy."
   ]
  },
  {
   "cell_type": "code",
   "execution_count": null,
   "metadata": {},
   "outputs": [],
   "source": [
    "def test_always_true():\n",
    "    assert True\n",
    "    \n",
    "def test_false_but_true():\n",
    "    assert not False"
   ]
  },
  {
   "cell_type": "markdown",
   "metadata": {},
   "source": [
    "### Testowanie naszy funkcji"
   ]
  },
  {
   "cell_type": "code",
   "execution_count": null,
   "metadata": {},
   "outputs": [],
   "source": [
    "def test_my_func():\n",
    "    assert my_func(0) == 0\n",
    "    assert my_func(1) == 0\n",
    "    assert my_func(2) == 2\n",
    "    assert my_func(3) == 2\n",
    "    assert my_func(5) == 2, \"Test failed because my_func(5) == {}\".format(my_func(5))"
   ]
  },
  {
   "cell_type": "markdown",
   "metadata": {},
   "source": [
    "### Parametryzacja testów"
   ]
  },
  {
   "cell_type": "code",
   "execution_count": null,
   "metadata": {},
   "outputs": [],
   "source": [
    "@pytest.mark.parametrize('input1, expected', [\n",
    "    (0, 0),\n",
    "    (1, 0),\n",
    "    (2, 2),\n",
    "    (3, 2),\n",
    "])\n",
    "def test_parametrized(input1, expected):\n",
    "    assert my_func(input1) == expected"
   ]
  },
  {
   "cell_type": "markdown",
   "metadata": {},
   "source": [
    "### Fixtury"
   ]
  },
  {
   "cell_type": "code",
   "execution_count": null,
   "metadata": {},
   "outputs": [],
   "source": [
    "@pytest.fixture\n",
    "def my_fixture():\n",
    "    n = \"6\"\n",
    "    return int(n) // 2 * 2\n",
    "    \n",
    "    \n",
    "def test_fixture(my_fixture):\n",
    "    assert my_func(6) == my_fixture"
   ]
  },
  {
   "cell_type": "markdown",
   "metadata": {},
   "source": [
    "### Mockowanie"
   ]
  },
  {
   "cell_type": "code",
   "execution_count": 38,
   "metadata": {},
   "outputs": [],
   "source": [
    "@patch('funkcje.input')\n",
    "def test_with_mocked_input(input_mock):\n",
    "    input_mock.return_value = '11'\n",
    "    assert bar() == 22"
   ]
  },
  {
   "cell_type": "markdown",
   "metadata": {},
   "source": [
    "### Sprawdzenie argumentów wywołania"
   ]
  },
  {
   "cell_type": "code",
   "execution_count": null,
   "metadata": {},
   "outputs": [],
   "source": [
    "@patch('funkcje.input')\n",
    "def test_with_mocked_input(input_mock):\n",
    "    bar()\n",
    "    input_mock.assert_called_with(\"Podaj liczbę: \")"
   ]
  },
  {
   "cell_type": "markdown",
   "metadata": {},
   "source": [
    "### Sprawdzenie czy rzucono wyjątek"
   ]
  },
  {
   "cell_type": "code",
   "execution_count": null,
   "metadata": {},
   "outputs": [],
   "source": [
    "def test_my_func_with_str():\n",
    "    with pytest.raises(TypeError):\n",
    "        my_func(\"aalal\")"
   ]
  },
  {
   "cell_type": "markdown",
   "metadata": {},
   "source": [
    "### Dodatkowe moduły pytest"
   ]
  },
  {
   "cell_type": "markdown",
   "metadata": {},
   "source": [
    "- pytest-pep8\n",
    "- pytest-cov\n",
    "- durations\n",
    "- pdb"
   ]
  },
  {
   "cell_type": "markdown",
   "metadata": {},
   "source": [
    "# TDD"
   ]
  },
  {
   "cell_type": "markdown",
   "metadata": {},
   "source": [
    "Program ma przyjąć od użytkownika dwie liczby a następnie wyświetlić wynik dodawania w postaci:\n",
    "\n",
    "\"=== Suma liczb x i y to z ===\""
   ]
  },
  {
   "cell_type": "code",
   "execution_count": null,
   "metadata": {},
   "outputs": [],
   "source": [
    "@patch('dodawacz.input')\n",
    "def test_return_input_as_int(input_mock):\n",
    "    input_mock.return_value = '11'\n",
    "    assert ask_for_number() == 11"
   ]
  },
  {
   "cell_type": "code",
   "execution_count": 41,
   "metadata": {},
   "outputs": [
    {
     "name": "stdout",
     "output_type": "stream",
     "text": [
      "Podaj liczbę: 13\n",
      "Podaj liczbę: 11\n",
      "=== Suma liczb 13 i 11 to 24 ===\n"
     ]
    }
   ],
   "source": [
    "def ask_for_number():\n",
    "    return int(input(\"Podaj liczbę: \"))\n",
    "\n",
    "def sumaraize():\n",
    "    x, y = ask_for_number(), ask_for_number()\n",
    "    return (x, y, x+y)\n",
    "    \n",
    "def output(x, y, z):\n",
    "    print(f\"=== Suma liczb {x} i {y} to {z} ===\")\n",
    "    \n",
    "output(*sumaraize())\n"
   ]
  }
 ],
 "metadata": {
  "kernelspec": {
   "display_name": "Python 3",
   "language": "python",
   "name": "python3"
  },
  "language_info": {
   "codemirror_mode": {
    "name": "ipython",
    "version": 3
   },
   "file_extension": ".py",
   "mimetype": "text/x-python",
   "name": "python",
   "nbconvert_exporter": "python",
   "pygments_lexer": "ipython3",
   "version": "3.6.8"
  },
  "toc": {
   "base_numbering": 1,
   "nav_menu": {},
   "number_sections": true,
   "sideBar": true,
   "skip_h1_title": false,
   "title_cell": "Table of Contents",
   "title_sidebar": "Contents",
   "toc_cell": false,
   "toc_position": {},
   "toc_section_display": true,
   "toc_window_display": false
  }
 },
 "nbformat": 4,
 "nbformat_minor": 2
}
