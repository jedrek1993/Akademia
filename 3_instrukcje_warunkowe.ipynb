{
 "cells": [
  {
   "cell_type": "code",
   "execution_count": 3,
   "metadata": {},
   "outputs": [
    {
     "name": "stdout",
     "output_type": "stream",
     "text": [
      "Cztery\n"
     ]
    }
   ],
   "source": [
    "x = 4\n",
    "if x == 4:\n",
    "    print(\"Cztery\")"
   ]
  },
  {
   "cell_type": "code",
   "execution_count": 5,
   "metadata": {},
   "outputs": [],
   "source": [
    "warunek = 3 > 4\n",
    "if warunek:\n",
    "    print(\"OK!\")"
   ]
  },
  {
   "cell_type": "code",
   "execution_count": 6,
   "metadata": {},
   "outputs": [
    {
     "name": "stdout",
     "output_type": "stream",
     "text": [
      "Co innego\n"
     ]
    }
   ],
   "source": [
    "x = 3\n",
    "if x == 4:\n",
    "    print(\"Cztery\")\n",
    "else: \n",
    "    print(\"Co innego\")"
   ]
  },
  {
   "cell_type": "code",
   "execution_count": 8,
   "metadata": {},
   "outputs": [
    {
     "name": "stdout",
     "output_type": "stream",
     "text": [
      "Trzy\n"
     ]
    }
   ],
   "source": [
    "x = 3\n",
    "if x == 4:\n",
    "    print(\"Cztery\")\n",
    "elif x == 3:\n",
    "    print(\"Trzy\")\n",
    "else: \n",
    "    print(\"Co innego\")"
   ]
  },
  {
   "cell_type": "code",
   "execution_count": 9,
   "metadata": {},
   "outputs": [
    {
     "name": "stdout",
     "output_type": "stream",
     "text": [
      "Cztery i więcej niż dwa\n"
     ]
    }
   ],
   "source": [
    "x = 4\n",
    "y = 5\n",
    "if x == 4 and y > 2:\n",
    "    print(\"Cztery i więcej niż dwa\")\n"
   ]
  },
  {
   "cell_type": "code",
   "execution_count": 10,
   "metadata": {},
   "outputs": [
    {
     "name": "stdout",
     "output_type": "stream",
     "text": [
      "Cztery lub więcej niż dwa\n"
     ]
    }
   ],
   "source": [
    "x = 4\n",
    "y = 5\n",
    "if x == 3 or y > 2:\n",
    "    print(\"Cztery lub więcej niż dwa\")"
   ]
  },
  {
   "cell_type": "markdown",
   "metadata": {},
   "source": [
    "# Zadanie:"
   ]
  },
  {
   "cell_type": "markdown",
   "metadata": {},
   "source": [
    "### Sprawdź czy podana liczba jest nieparzysta, większa od 4 i mniejsza od 20"
   ]
  },
  {
   "cell_type": "code",
   "execution_count": 26,
   "metadata": {},
   "outputs": [
    {
     "name": "stdout",
     "output_type": "stream",
     "text": [
      "Podaj liczbę: 46\n",
      "Zła liczba\n"
     ]
    },
    {
     "data": {
      "text/html": [
       "<script>code_show=true;function code_toggle(){if(code_show){$('div.cell.code_cell.rendered.selected div.input').hide();\n",
       "    }else{$('div.cell.code_cell.rendered.selected div.input').show();}code_show=!code_show}$( document ).ready(code_toggle);\n",
       "</script>To show/hide this cell's raw code input, click <a href=\"javascript:code_toggle()\">here</a>."
      ],
      "text/plain": [
       "<IPython.core.display.HTML object>"
      ]
     },
     "execution_count": 26,
     "metadata": {},
     "output_type": "execute_result"
    }
   ],
   "source": [
    "liczba = int(input(\"Podaj liczbę: \"))\n",
    "\n",
    "if liczba%2 and liczba>4 and liczba<20:\n",
    "    print(\"Pasuje!\")\n",
    "else:\n",
    "    print(\"Zła liczba\")\n",
    "\n",
    "\n",
    "from IPython.display import HTML\n",
    "HTML('''<script>code_show=true;function code_toggle(){if(code_show){$('div.cell.code_cell.rendered.selected div.input').hide();\n",
    "    }else{$('div.cell.code_cell.rendered.selected div.input').show();}code_show=!code_show}$( document ).ready(code_toggle);\n",
    "</script>To show/hide this cell's raw code input, click <a href=\"javascript:code_toggle()\">here</a>.''')"
   ]
  }
 ],
 "metadata": {
  "kernelspec": {
   "display_name": "Python 3",
   "language": "python",
   "name": "python3"
  },
  "language_info": {
   "codemirror_mode": {
    "name": "ipython",
    "version": 3
   },
   "file_extension": ".py",
   "mimetype": "text/x-python",
   "name": "python",
   "nbconvert_exporter": "python",
   "pygments_lexer": "ipython3",
   "version": "3.6.5"
  }
 },
 "nbformat": 4,
 "nbformat_minor": 2
}
