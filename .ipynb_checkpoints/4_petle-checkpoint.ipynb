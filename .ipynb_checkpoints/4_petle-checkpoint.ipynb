{
 "cells": [
  {
   "cell_type": "markdown",
   "metadata": {},
   "source": [
    "# Listy "
   ]
  },
  {
   "cell_type": "code",
   "execution_count": 62,
   "metadata": {},
   "outputs": [],
   "source": [
    "pusta_lista = [] # tworzymy pustą listę, czyli taką która nie zawiera żadnych elementów, o nazwie pusta_lista\n",
    "owoce = ['jablko', 'truskawki', 'arbuz', 'banan', 12, 12.53] # tworzymy listę która zawiera zmienne typu string(łancuch znaków/napis)\n",
    "# lista może zawierać elementu różnyc typów"
   ]
  },
  {
   "cell_type": "code",
   "execution_count": 63,
   "metadata": {},
   "outputs": [
    {
     "name": "stdout",
     "output_type": "stream",
     "text": [
      "['jablko', 'truskawki', 'arbuz', 'banan', 12, 12.53]\n",
      "kiwi\n",
      "['kiwi', 'arbuz']\n",
      "['arbuz', 'banan', 12, 12.53]\n"
     ]
    }
   ],
   "source": [
    "print(owoce) # wypisanie zawartości listy\n",
    "owoce[1] = 'kiwi' # zmiana elementu listy o indeksie 1\n",
    "print(owoce[1]) # wypisanie elementu listy o indeksie 1 (pamiętaj że listę numerujemy od 0)\n",
    "print(owoce[1:3]) # wycięcie kawałka listy od 1 do 3 elementu\n",
    "print(owoce[2:]) # wycięcie kawałka listy od drugiego elementu do końca"
   ]
  },
  {
   "cell_type": "code",
   "execution_count": 64,
   "metadata": {},
   "outputs": [
    {
     "name": "stdout",
     "output_type": "stream",
     "text": [
      "['jablko', 'kiwi', 'arbuz', 'banan', 12, 12.53, 'pomidor']\n",
      "['jablko', 'kiwi', 'arbuz', 'banan']\n"
     ]
    }
   ],
   "source": [
    "owoce.append('pomidor') # dodanie noewego elementu na koniec listy\n",
    "print(owoce)\n",
    "del owoce[-3:] # usunięcie z pisty elementów od trzeciego od końca do ostatniego\n",
    "print(owoce)"
   ]
  },
  {
   "cell_type": "markdown",
   "metadata": {},
   "source": [
    "### Krotki (tuple)"
   ]
  },
  {
   "cell_type": "code",
   "execution_count": 32,
   "metadata": {},
   "outputs": [
    {
     "name": "stdout",
     "output_type": "stream",
     "text": [
      "('jablko', 'pomarancz', 'arbuz', 'truskawka')\n",
      "pomarancz\n",
      "('pomarancz', 'arbuz')\n"
     ]
    }
   ],
   "source": [
    "owoce = ('jablko', 'pomarancz', 'arbuz', 'truskawka') # tworzenie nowej krotki\n",
    "print(owoce)\n",
    "print(owoce[1])\n",
    "print(owoce[1:3])"
   ]
  },
  {
   "cell_type": "code",
   "execution_count": 34,
   "metadata": {},
   "outputs": [
    {
     "ename": "AttributeError",
     "evalue": "'tuple' object has no attribute 'append'",
     "output_type": "error",
     "traceback": [
      "\u001b[1;31m---------------------------------------------------------------------------\u001b[0m",
      "\u001b[1;31mAttributeError\u001b[0m                            Traceback (most recent call last)",
      "\u001b[1;32m<ipython-input-34-42a3c33d1ddd>\u001b[0m in \u001b[0;36m<module>\u001b[1;34m()\u001b[0m\n\u001b[1;32m----> 1\u001b[1;33m \u001b[0mowoce\u001b[0m\u001b[1;33m.\u001b[0m\u001b[0mappend\u001b[0m\u001b[1;33m(\u001b[0m\u001b[1;34m'pomidor'\u001b[0m\u001b[1;33m)\u001b[0m \u001b[1;31m# różnica +\u001b[0m\u001b[1;33m\u001b[0m\u001b[0m\n\u001b[0m\u001b[0;32m      2\u001b[0m \u001b[0mprint\u001b[0m\u001b[1;33m(\u001b[0m\u001b[0mowoce\u001b[0m\u001b[1;33m)\u001b[0m\u001b[1;33m\u001b[0m\u001b[0m\n",
      "\u001b[1;31mAttributeError\u001b[0m: 'tuple' object has no attribute 'append'"
     ]
    }
   ],
   "source": [
    "owoce.append('pomidor') # nie możemy tego zrobić bo krotka jest niemutowalna (tak jak string, int, float)\n",
    "print(owoce) "
   ]
  },
  {
   "cell_type": "markdown",
   "metadata": {},
   "source": [
    "# Pętla while"
   ]
  },
  {
   "cell_type": "code",
   "execution_count": 20,
   "metadata": {},
   "outputs": [
    {
     "name": "stdout",
     "output_type": "stream",
     "text": [
      "0\n",
      "1\n",
      "2\n",
      "3\n",
      "4\n",
      "5\n",
      "6\n",
      "7\n",
      "8\n",
      "9\n",
      "10\n"
     ]
    }
   ],
   "source": [
    "x = 0\n",
    "while x <= 10: # pętla while wykonuje to co znajduje się pod spodem jeżeli warunk jest spełniony\n",
    "    print(x) \n",
    "    x +=  1"
   ]
  },
  {
   "cell_type": "markdown",
   "metadata": {},
   "source": [
    "# Pętla for "
   ]
  },
  {
   "cell_type": "code",
   "execution_count": 4,
   "metadata": {},
   "outputs": [
    {
     "name": "stdout",
     "output_type": "stream",
     "text": [
      "1\n",
      "3\n",
      "4\n",
      "2\n",
      "Witaj!\n"
     ]
    }
   ],
   "source": [
    "for x in [1, 3, 4, 2, \"Witaj!\"]: # pętla for przechodzi po całej liście (iteruje) i jako x zapisuje kolejne elementy w każdym następnym przejściu\n",
    "    print(x)"
   ]
  },
  {
   "cell_type": "code",
   "execution_count": 5,
   "metadata": {},
   "outputs": [
    {
     "name": "stdout",
     "output_type": "stream",
     "text": [
      "W\n",
      "i\n",
      "t\n",
      "a\n",
      "j\n",
      "!\n"
     ]
    }
   ],
   "source": [
    "for litera in \"Witaj!\":\n",
    "    print(l)"
   ]
  },
  {
   "cell_type": "code",
   "execution_count": 13,
   "metadata": {},
   "outputs": [
    {
     "name": "stdout",
     "output_type": "stream",
     "text": [
      "2\n",
      "3\n",
      "4\n"
     ]
    }
   ],
   "source": [
    "for x in range(2,5): # funkcja range worzy nam podany zakres po którym możemy iterować\n",
    "     print(x)"
   ]
  },
  {
   "cell_type": "code",
   "execution_count": 18,
   "metadata": {},
   "outputs": [
    {
     "name": "stdout",
     "output_type": "stream",
     "text": [
      "3\n",
      "4\n",
      "5\n",
      "6\n",
      "7\n"
     ]
    }
   ],
   "source": [
    "for x in range(3, 8, 1):\n",
    "     print(x)"
   ]
  },
  {
   "cell_type": "markdown",
   "metadata": {},
   "source": [
    "# Sterowanie działaniem pętli "
   ]
  },
  {
   "cell_type": "code",
   "execution_count": 8,
   "metadata": {},
   "outputs": [
    {
     "name": "stdout",
     "output_type": "stream",
     "text": [
      "0\n",
      "1\n",
      "2\n",
      "3\n",
      "4\n",
      "5\n"
     ]
    }
   ],
   "source": [
    "x = 0\n",
    "while True:\n",
    "    print(x)\n",
    "    x += 1\n",
    "    if x == 6:\n",
    "        break # całkowicie przerywa działanie pętli\n"
   ]
  },
  {
   "cell_type": "code",
   "execution_count": 10,
   "metadata": {},
   "outputs": [
    {
     "name": "stdout",
     "output_type": "stream",
     "text": [
      "1\n",
      "3\n",
      "4\n",
      "5\n",
      "6\n"
     ]
    }
   ],
   "source": [
    "x = 0\n",
    "while x < 6:\n",
    "    x += 1\n",
    "    if x == 2:\n",
    "        continue # przerywa jedynie aktualną iterację\n",
    "    print(x)"
   ]
  },
  {
   "cell_type": "markdown",
   "metadata": {},
   "source": [
    "# Zadanie: "
   ]
  },
  {
   "cell_type": "markdown",
   "metadata": {},
   "source": [
    "### Wypisz wszystkie liczby nieparzyste od 0 do 13 włącznie"
   ]
  },
  {
   "cell_type": "code",
   "execution_count": 22,
   "metadata": {},
   "outputs": [
    {
     "name": "stdout",
     "output_type": "stream",
     "text": [
      "1\n",
      "3\n",
      "5\n",
      "7\n",
      "9\n",
      "11\n",
      "13\n"
     ]
    }
   ],
   "source": [
    "for x in range(14):\n",
    "    if x%2:\n",
    "        print(x)\n"
   ]
  },
  {
   "cell_type": "code",
   "execution_count": null,
   "metadata": {},
   "outputs": [],
   "source": [
    "owoce = ['jablko', 'pomarancz', 'arbuz', 'truskawka', 'pomidor']"
   ]
  },
  {
   "cell_type": "markdown",
   "metadata": {},
   "source": [
    "# Stwórz nową listę która będzie zawierała owoce o nazwie dłuższej niż 6 znaków "
   ]
  },
  {
   "cell_type": "code",
   "execution_count": 51,
   "metadata": {},
   "outputs": [
    {
     "name": "stdout",
     "output_type": "stream",
     "text": [
      "['pomarancz', 'truskawka', 'pomidor']\n"
     ]
    }
   ],
   "source": [
    "owoce = ['jablko', 'pomarancz', 'arbuz', 'truskawka', 'pomidor']\n",
    "\n",
    "dlugie = []\n",
    "\n",
    "for owoc in owoce:\n",
    "    if len(owoc) > 6: # sprawdzamy czy długość napisu jest większa od 6\n",
    "        dlugie.append(owoc) # dodajemy napis do listy\n",
    "        \n",
    "print(dlugie)"
   ]
  },
  {
   "cell_type": "markdown",
   "metadata": {},
   "source": [
    "# Narysuj choinkę "
   ]
  },
  {
   "cell_type": "code",
   "execution_count": 61,
   "metadata": {},
   "outputs": [
    {
     "name": "stdout",
     "output_type": "stream",
     "text": [
      "_____*\n",
      "____***\n",
      "___*****\n",
      "__*******\n",
      "_*********\n"
     ]
    }
   ],
   "source": [
    "for x in range(1,10,2):\n",
    "    print(\"_\"*(5-int(x/2))+\"*\"*x) "
   ]
  }
 ],
 "metadata": {
  "kernelspec": {
   "display_name": "Python 3",
   "language": "python",
   "name": "python3"
  },
  "language_info": {
   "codemirror_mode": {
    "name": "ipython",
    "version": 3
   },
   "file_extension": ".py",
   "mimetype": "text/x-python",
   "name": "python",
   "nbconvert_exporter": "python",
   "pygments_lexer": "ipython3",
   "version": "3.6.5"
  }
 },
 "nbformat": 4,
 "nbformat_minor": 2
}
